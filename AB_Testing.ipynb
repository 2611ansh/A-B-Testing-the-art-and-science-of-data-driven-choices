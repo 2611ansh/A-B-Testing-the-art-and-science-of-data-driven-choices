{
 "cells": [
  {
   "cell_type": "markdown",
   "metadata": {},
   "source": [
    "<p style=\"text-align:center\">\n",
    "    <a href=\"https://skills.network\" target=\"_blank\">\n",
    "    <img src=\"https://cf-courses-data.s3.us.cloud-object-storage.appdomain.cloud/assets/logos/SN_web_lightmode.png\" width=\"200\" alt=\"Skills Network Logo\">\n",
    "    </a>\n",
    "</p>\n"
   ]
  },
  {
   "cell_type": "markdown",
   "metadata": {},
   "source": [
    "# **Introduction to A/B Testing Using The P-Value Method**\n",
    "\n",
    "Estimated time needed: **30** minutes\n",
    "\n",
    "You are a project manager at a company. Two years ago, your team launched a new website blog that is only available a light mode. Last week, while you were reading your e-book, you noticed that you switched it to dark mode right after you downloaded the e-book reading app. \n",
    "\n",
    "You start contemplating whether your company's website blog should also feature a dark mode, but you are not sure if this would actually be worth doing. You're wondering if readers avoid subscribing due to eye discomfort while reading your blog. In this lab, you will be working with Python and be introduced to A/B Testing and use this method to see if more readers/users would actually convert to this website blog if you made that available in dark mode.\n",
    "\n",
    "\n",
    "<img src=\"https://cf-courses-data.s3.us.cloud-object-storage.appdomain.cloud/IBMSkillsNetwork-GPXX022OEN/Screenshot%202024-01-24%20at%2011.32.33%E2%80%AFAM.png\" width=\"70%\" alt=\"ab testing image\" class=\"centerImage\">\n",
    "\n",
    "<font color=gray>*Image Resource* :</font> <a href=\"https://www.emailonacid.com/blog/article/email-marketing/dark-mode-vs-light-mode-ux-debate/\">here</a>\n"
   ]
  },
  {
   "cell_type": "markdown",
   "metadata": {},
   "source": [
    "# __Table of Contents__\n",
    "\n",
    "<ol>\n",
    "    <li><a href=\"#Objectives\">Objectives</a></li>\n",
    "    <li>\n",
    "        <a href=\"#Setup\">Setup</a>\n",
    "        <ol>\n",
    "            <li><a href=\"#Installing-Required-Libraries\">Installing Required Libraries</a></li>\n",
    "            <li><a href=\"#Importing-Required-Libraries\">Importing Required Libraries</a></li>\n",
    "        </ol>\n",
    "    </li>\n",
    "    <li>\n",
    "        <a href=\"#A/B Testing-Background\">A/B Testing Background</a>\n",
    "        <ol>\n",
    "            <li><a href=\"# What does A/B Testing-do?\">What does A/B Testing-do?</a></li>\n",
    "            <li><a href=\"#How-does-[Subject-of-the-Lab]-work?\">The Steps to A/B Testing</a></li>\n",
    "        </ol>\n",
    "    </li>\n",
    "    <li><a href=\"#Build-[Subject-of-the-Lab]-Model-To-Predict-Iris-Flowers\">Taking A Look At Our Data</a></li>\n",
    "        <ol>\n",
    "    <li><a href=\"#Build-[Subject-of-the-Lab]-Model-To-Read-Cheques\">Designing the Experiment</a></li>\n",
    "    <li><a href=\"#Build-[Subject-of-the-Lab]-Model-To-Read-Cheques\">Collecting and Preparing the Data</a></li>\n",
    "    <li><a href=\"#Build-[Subject-of-the-Lab]-Model-To-Read-Cheques\">Visualising the Results</a></li>\n",
    "    <li><a href=\"#Build-[Subject-of-the-Lab]-Model-To-Read-Cheques\">Testing the Hypothesis</a></li>\n",
    "    <li><a href=\"#Build-[Subject-of-the-Lab]-Model-To-Read-Cheques\">Drawing Conclusions</a></li>\n",
    "        </ol>\n",
    "    <li>\n",
    "        <a href=\"#Exercises\">Exercises</a>\n",
    "        <ol>\n",
    "            <li><a href=\"#Exercise-1-Loading-a-dataset-(wine-dataset)\">Exercise 1 - Formulate the hypothesis for this problem</a></li>\n",
    "            <li><a href=\"#Exercise-2-Type-in-Exercise-2-subject-here\">Exercise 2 - Collect and clean up the dataset</a></li>\n",
    "            <li><a href=\"#Exercise-3-Type-in-Exercise-3-subject-here\">Exercise 3 - Given that the baseline conversion is 10%, and we expect the conversion rate to be 15%, find the sample size needed</a></li>\n",
    "            <li><a href=\"#Exercise-2-Type-in-Exercise-2-subject-here\">Exercise 4 - Split the data into treatment and control groups</a></li>\n",
    "            <li><a href=\"#Exercise-3-Type-in-Exercise-3-subject-here\">Exercise 5 - Calculate the p-value</a></li>\n",
    "        </ol>\n",
    "    </li>\n",
    "</ol>\n"
   ]
  },
  {
   "cell_type": "markdown",
   "metadata": {},
   "source": [
    "---\n"
   ]
  },
  {
   "cell_type": "markdown",
   "metadata": {},
   "source": [
    "# Objectives\n",
    "\n",
    "After completing this lab you will be able to:\n",
    "\n",
    " - Use A/B Testing to determine which variant is better performing.\n",
    " - Work with p-values and interpret the conclusion\n",
    " - Use Python to perform data cleaning and data visualizations\n"
   ]
  },
  {
   "cell_type": "markdown",
   "metadata": {},
   "source": [
    "---\n"
   ]
  },
  {
   "cell_type": "markdown",
   "metadata": {},
   "source": [
    "# Setup\n"
   ]
  },
  {
   "cell_type": "markdown",
   "metadata": {},
   "source": [
    "For this lab, we will be using the following libraries:\n",
    "\n",
    "*   [`pandas`](https://pandas.pydata.org/?utm_medium=Exinfluencer&utm_source=Exinfluencer&utm_content=000026UJ&utm_term=10006555&utm_id=NA-SkillsNetwork-Channel-SkillsNetworkCoursesIBMML0187ENSkillsNetwork31430127-2021-01-01) for managing the data.\n",
    "*   [`numpy`](https://numpy.org/?utm_medium=Exinfluencer&utm_source=Exinfluencer&utm_content=000026UJ&utm_term=10006555&utm_id=NA-SkillsNetwork-Channel-SkillsNetworkCoursesIBMML0187ENSkillsNetwork31430127-2021-01-01) for mathematical operations.\n",
    "*   [`sklearn`](https://scikit-learn.org/stable/?utm_medium=Exinfluencer&utm_source=Exinfluencer&utm_content=000026UJ&utm_term=10006555&utm_id=NA-SkillsNetwork-Channel-SkillsNetworkCoursesIBMML0187ENSkillsNetwork31430127-2021-01-01) for machine learning and machine-learning-pipeline related functions.\n",
    "*   [`seaborn`](https://seaborn.pydata.org/?utm_medium=Exinfluencer&utm_source=Exinfluencer&utm_content=000026UJ&utm_term=10006555&utm_id=NA-SkillsNetwork-Channel-SkillsNetworkCoursesIBMML0187ENSkillsNetwork31430127-2021-01-01) for visualizing the data.\n",
    "*   [`matplotlib`](https://matplotlib.org/?utm_medium=Exinfluencer&utm_source=Exinfluencer&utm_content=000026UJ&utm_term=10006555&utm_id=NA-SkillsNetwork-Channel-SkillsNetworkCoursesIBMML0187ENSkillsNetwork31430127-2021-01-01) for additional plotting tools.\n"
   ]
  },
  {
   "cell_type": "markdown",
   "metadata": {},
   "source": [
    "### Installing Required Libraries\n",
    "\n",
    "The following required libraries are pre-installed in the Skills Network Labs environment. However, if you run this notebook commands in a different Jupyter environment (e.g. Watson Studio or Ananconda), you will need to install these libraries by removing the `#` sign before `!pip` in the code cell below.\n"
   ]
  },
  {
   "cell_type": "code",
   "execution_count": 5,
   "metadata": {
    "tags": []
   },
   "outputs": [],
   "source": [
    "# All Libraries required for this lab are listed below. The libraries pre-installed on Skills Network Labs are commented.\n",
    "# !pip install -qy pandas==1.3.4 numpy==1.21.4 seaborn==0.9.0 matplotlib==3.5.0 scikit-learn==0.20.1\n",
    "# - Update a specific package\n",
    "# !pip install pmdarima -U\n",
    "# - Update a package to specific version\n",
    "# !pip install --upgrade pmdarima==2.0.2\n",
    "# Note: If your environment doesn't support \"!pip install\", use \"!mamba install\""
   ]
  },
  {
   "cell_type": "markdown",
   "metadata": {},
   "source": [
    "The following required libraries are __not__ pre-installed in the Skills Network Labs environment. __You will need to run the following cell__ to install them:\n"
   ]
  },
  {
   "cell_type": "code",
   "execution_count": 6,
   "metadata": {
    "tags": []
   },
   "outputs": [
    {
     "name": "stdout",
     "output_type": "stream",
     "text": [
      "Requirement already satisfied: tqdm in /home/jupyterlab/conda/envs/python/lib/python3.7/site-packages (4.60.0)\n",
      "Requirement already satisfied: pmdarima in /home/jupyterlab/conda/envs/python/lib/python3.7/site-packages (2.0.4)\n",
      "Requirement already satisfied: joblib>=0.11 in /home/jupyterlab/conda/envs/python/lib/python3.7/site-packages (from pmdarima) (1.3.2)\n",
      "Requirement already satisfied: Cython!=0.29.18,!=0.29.31,>=0.29 in /home/jupyterlab/conda/envs/python/lib/python3.7/site-packages (from pmdarima) (0.29.32)\n",
      "Requirement already satisfied: numpy>=1.21.2 in /home/jupyterlab/conda/envs/python/lib/python3.7/site-packages (from pmdarima) (1.21.6)\n",
      "Requirement already satisfied: pandas>=0.19 in /home/jupyterlab/conda/envs/python/lib/python3.7/site-packages (from pmdarima) (1.3.5)\n",
      "Requirement already satisfied: scikit-learn>=0.22 in /home/jupyterlab/conda/envs/python/lib/python3.7/site-packages (from pmdarima) (1.0.2)\n",
      "Requirement already satisfied: scipy>=1.3.2 in /home/jupyterlab/conda/envs/python/lib/python3.7/site-packages (from pmdarima) (1.7.3)\n",
      "Requirement already satisfied: statsmodels>=0.13.2 in /home/jupyterlab/conda/envs/python/lib/python3.7/site-packages (from pmdarima) (0.13.5)\n",
      "Requirement already satisfied: urllib3 in /home/jupyterlab/conda/envs/python/lib/python3.7/site-packages (from pmdarima) (1.26.15)\n",
      "Requirement already satisfied: setuptools!=50.0.0,>=38.6.0 in /home/jupyterlab/conda/envs/python/lib/python3.7/site-packages (from pmdarima) (67.7.2)\n",
      "Requirement already satisfied: packaging>=17.1 in /home/jupyterlab/conda/envs/python/lib/python3.7/site-packages (from pmdarima) (23.1)\n",
      "Requirement already satisfied: python-dateutil>=2.7.3 in /home/jupyterlab/conda/envs/python/lib/python3.7/site-packages (from pandas>=0.19->pmdarima) (2.8.2)\n",
      "Requirement already satisfied: pytz>=2017.3 in /home/jupyterlab/conda/envs/python/lib/python3.7/site-packages (from pandas>=0.19->pmdarima) (2023.3)\n",
      "Requirement already satisfied: threadpoolctl>=2.0.0 in /home/jupyterlab/conda/envs/python/lib/python3.7/site-packages (from scikit-learn>=0.22->pmdarima) (3.1.0)\n",
      "Requirement already satisfied: patsy>=0.5.2 in /home/jupyterlab/conda/envs/python/lib/python3.7/site-packages (from statsmodels>=0.13.2->pmdarima) (0.5.3)\n",
      "Requirement already satisfied: six in /home/jupyterlab/conda/envs/python/lib/python3.7/site-packages (from patsy>=0.5.2->statsmodels>=0.13.2->pmdarima) (1.16.0)\n"
     ]
    }
   ],
   "source": [
    "!pip install tqdm pmdarima"
   ]
  },
  {
   "cell_type": "markdown",
   "metadata": {},
   "source": [
    "### Importing Required Libraries\n",
    "\n",
    "_We recommend you import all required libraries in one place (here):_\n"
   ]
  },
  {
   "cell_type": "code",
   "execution_count": 7,
   "metadata": {
    "tags": []
   },
   "outputs": [],
   "source": [
    "from tqdm import tqdm\n",
    "import skillsnetwork\n",
    "import numpy as np\n",
    "import pandas as pd\n",
    "#from itertools import accumulate\n",
    "import matplotlib.pyplot as plt\n",
    "import seaborn as sns\n",
    "import statsmodels.stats.api as sms \n",
    "%matplotlib inline\n",
    "from math import ceil\n",
    "\n",
    "# You can also use this section to suppress warnings generated by your code:\n",
    "def warn(*args, **kwargs):\n",
    "    pass\n",
    "import warnings\n",
    "warnings.warn = warn\n",
    "warnings.filterwarnings('ignore')\n",
    "\n",
    "sns.set_context('notebook')\n",
    "sns.set_style('white')"
   ]
  },
  {
   "cell_type": "markdown",
   "metadata": {},
   "source": [
    "---\n"
   ]
  },
  {
   "cell_type": "markdown",
   "metadata": {},
   "source": [
    "# A/B Testing Background\n",
    "\n",
    "Before we delve into **A/B Testing**, we should first understand:\n",
    "\n",
    "1.  What A/B Testing does\n",
    "2.  The steps to A/B Testing \n",
    "\n",
    "\n",
    "## What does A/B Testing do?\n",
    "\n",
    "### The foundemental of A/B Testing:\n",
    "A/B Testing is a technique used to compare two variants of a variable (old vs. new page, email vs. no email, ...). Often, this is employed to determine whether one variant performs better than the other by splitting our users into two groups: one that receives the treatment (gets the new version of the website, receives the email about the new campaign, ...) and one that does not. \n",
    "A/B testing is an essential of digital strategy, enabling businesses to make informed decisions based on real user data. By optimizing digital experiences through A/B testing, companies can enhance user engagement, increase conversion rates, and ultimately drive business growth. \n",
    "\n",
    "## The steps to A/B Testing \n",
    "\n",
    "To conduct A/B Testing, we need to follow these steps:\n",
    "1. Designing the experiment\n",
    "2. Collecting and preparing the data\n",
    "3. Visualising the results\n",
    "4. Testing the hypothesis\n",
    "5. Drawing conclusions\n"
   ]
  },
  {
   "cell_type": "markdown",
   "metadata": {},
   "source": [
    "---\n"
   ]
  },
  {
   "cell_type": "markdown",
   "metadata": {},
   "source": [
    "# Taking a look at our data\n",
    "\n",
    "## Import ab_data dataset\n",
    "\n",
    "<img src=\"https://cf-courses-data.s3.us.cloud-object-storage.appdomain.cloud/IND-GPXX0FBEN/Screenshot%202024-01-19%20at%202.15.44%E2%80%AFPM.png\" width=\"50%\" alt=\"dark_and_light_mode\">\n",
    "\n",
    "<font color=gray>*Image Resource* :</font> <a href=\"https://blog.eyeconic.com/tips-tricks-and-tech/what-is-dark-mode.html\">here</a>\n",
    "\n",
    "Your company's website has always been in light mode, and recently, it's exploring the possibility of introducing a dark mode. The objective is to assess whether implementing a dark mode will result in a higher conversion rate for users visiting the website.\n",
    "\n",
    "A system has been implemented to collect the following data:\n",
    "\n",
    "- `user_id`: the user ID of the person who clicks into your company's website\n",
    "- `timestamp`: the date and time when the user visited the website\n",
    "- `group`: the group to which the user belongs (treatment vs control)\n",
    "- `landing_page`: the page that the user lands on (old vs new page, representing light vs dark mode, respectively)\n",
    "- `converted`: whether or not the user has converted to the new page\n",
    "\n",
    "Your task is to determine whether the new version of the page will increase the users' conversion rate on the website.\n",
    "\n",
    "Before we dive in, let's take a look at our data by loading the `ab_data` dataset into a `pandas.DataFrame`:\n"
   ]
  },
  {
   "cell_type": "code",
   "execution_count": null,
   "metadata": {
    "tags": []
   },
   "outputs": [],
   "source": [
    "await skillsnetwork.download_dataset('https://cf-courses-data.s3.us.cloud-object-storage.appdomain.cloud/IND-GPXX0FBEN/ab_data.csv')\n",
    "df = pd.read_csv('ab_data.csv')"
   ]
  },
  {
   "cell_type": "markdown",
   "metadata": {},
   "source": [
    "Let's look at some samples rows from the dataset we loaded:\n"
   ]
  },
  {
   "cell_type": "code",
   "execution_count": null,
   "metadata": {},
   "outputs": [],
   "source": [
    "df.sample(5)"
   ]
  },
  {
   "cell_type": "markdown",
   "metadata": {},
   "source": [
    "For clarity, let's create a new column \"version\", such that if the landing page is the old one, then this means that it is the light mode, otherwise in dark mode.\n"
   ]
  },
  {
   "cell_type": "code",
   "execution_count": 3,
   "metadata": {
    "tags": []
   },
   "outputs": [
    {
     "ename": "NameError",
     "evalue": "name 'df' is not defined",
     "output_type": "error",
     "traceback": [
      "\u001b[0;31m---------------------------------------------------------------------------\u001b[0m",
      "\u001b[0;31mNameError\u001b[0m                                 Traceback (most recent call last)",
      "\u001b[0;32m/tmp/ipykernel_68/827667475.py\u001b[0m in \u001b[0;36m<module>\u001b[0;34m\u001b[0m\n\u001b[0;32m----> 1\u001b[0;31m \u001b[0mdf\u001b[0m\u001b[0;34m[\u001b[0m\u001b[0;34m'version'\u001b[0m\u001b[0;34m]\u001b[0m \u001b[0;34m=\u001b[0m \u001b[0mnp\u001b[0m\u001b[0;34m.\u001b[0m\u001b[0mwhere\u001b[0m\u001b[0;34m(\u001b[0m\u001b[0mdf\u001b[0m\u001b[0;34m[\u001b[0m\u001b[0;34m'landing_page'\u001b[0m\u001b[0;34m]\u001b[0m \u001b[0;34m==\u001b[0m \u001b[0;34m'new_page'\u001b[0m\u001b[0;34m,\u001b[0m \u001b[0;34m'dark_mode'\u001b[0m\u001b[0;34m,\u001b[0m \u001b[0;34m'light_mode'\u001b[0m\u001b[0;34m)\u001b[0m\u001b[0;34m\u001b[0m\u001b[0;34m\u001b[0m\u001b[0m\n\u001b[0m\u001b[1;32m      2\u001b[0m \u001b[0mdf\u001b[0m\u001b[0;34m.\u001b[0m\u001b[0mhead\u001b[0m\u001b[0;34m(\u001b[0m\u001b[0;36m5\u001b[0m\u001b[0;34m)\u001b[0m\u001b[0;34m\u001b[0m\u001b[0;34m\u001b[0m\u001b[0m\n",
      "\u001b[0;31mNameError\u001b[0m: name 'df' is not defined"
     ]
    }
   ],
   "source": [
    "df['version'] = np.where(df['landing_page'] == 'new_page', 'dark_mode', 'light_mode')\n",
    "df.head(5)"
   ]
  },
  {
   "cell_type": "markdown",
   "metadata": {},
   "source": [
    "Let's take a look at how many users are assigned to the treatment or control groups. \n",
    "\n",
    "In A/B tests, to test whether a variant is efficient or not, the users are separated into two groups: the treatment group and control group. The treatment group receives the change or the treatment, and the control group does not.\n",
    "\n",
    "From the output below, roughly half of the users are in the control group and the other half receive the treatment.\n"
   ]
  },
  {
   "cell_type": "code",
   "execution_count": null,
   "metadata": {},
   "outputs": [],
   "source": [
    "df['group'].value_counts()"
   ]
  },
  {
   "cell_type": "markdown",
   "metadata": {},
   "source": [
    "In our study, the treatment group gets the new page in dark mode, and the control group stays with the old page or the light mode. We should expect the number of people who get the new page to be equal to the number of people who receive the treatment. Similarly, we expect the number of users that get the old page be equal to the number of people who are in the control group.\n"
   ]
  },
  {
   "cell_type": "code",
   "execution_count": null,
   "metadata": {},
   "outputs": [],
   "source": [
    "df['landing_page'].value_counts()"
   ]
  },
  {
   "cell_type": "markdown",
   "metadata": {},
   "source": [
    "Unfortunately, the results do not match. We will be able to clean the data set in the upcoming steps.\n"
   ]
  },
  {
   "cell_type": "markdown",
   "metadata": {},
   "source": [
    "Observe the percentage of users who convert to the website in the two groups. In the converted column, if the user converts, this is denoted by 1, and 0 otherwise. We can calculate the conversion rate using the mean function across the column.\n"
   ]
  },
  {
   "cell_type": "code",
   "execution_count": null,
   "metadata": {},
   "outputs": [],
   "source": [
    "# filter the data based off of the version (dark or light mode)\n",
    "old_conversion = df[df['version'] == 'light_mode']\n",
    "new_conversion = df[df['version'] == 'dark_mode']\n",
    "\n",
    "# get the conversion rates\n",
    "light_converted = old_conversion['converted'].mean()\n",
    "dark_converted = new_conversion['converted'].mean()\n",
    "\n",
    "# print the results\n",
    "print(\"The conversion rate in the group using light mode is: %.2f%%\" % (100 * light_converted))\n",
    "print(\"The conversion rate in the group using dark mode is: %.2f%%\" % (100 * dark_converted))"
   ]
  },
  {
   "cell_type": "markdown",
   "metadata": {},
   "source": [
    "Let's see if there are any null values in the data set:\n"
   ]
  },
  {
   "cell_type": "code",
   "execution_count": null,
   "metadata": {},
   "outputs": [],
   "source": [
    "df.info()"
   ]
  },
  {
   "cell_type": "markdown",
   "metadata": {},
   "source": [
    "Our dataset has 294,478 entries and 294,478 non-null. This means that we don't have any null values, hence we don't need to drop any observations... for now.\n"
   ]
  },
  {
   "cell_type": "markdown",
   "metadata": {},
   "source": [
    "---\n"
   ]
  },
  {
   "cell_type": "markdown",
   "metadata": {},
   "source": [
    "# 1. Designing the experiment\n"
   ]
  },
  {
   "cell_type": "markdown",
   "metadata": {},
   "source": [
    "### What is hypothesis testing?\n",
    "    \n",
    "In Statistics, hypothesis testing is a method used in statistical inference to test an assumption about a parameter. \n",
    "    \n",
    "The null hypothesis $H_0$ is an assumption we would like to test about a population. Often, this is where we test about the absence of the effect.\n",
    "    \n",
    "The alternative hypothesis $H_1$ or $H_A$ claims that there is an effect on the population. \n",
    "\n",
    "Here is an example:\n",
    "\n",
    "Suppose you wish to see whether a coin is fair by flipping it 10 times. After flipping the coin 10 times, you get the following result:\n",
    "[H, H, H, H, T, H, H, H, H, H] where H is heads and T is tails. You do a hypothesis testing to see how probable it was to see that result under the null hypothesis. Let's set our level of significance to be 5%.\n",
    "\n",
    "$$\n",
    "H_0: \\text{The coin is fair} \\\\\\\\\n",
    "H_1: \\text{The coin is not fair}\n",
    "$$\n",
    "\n",
    "Since each of the flips is independent, the coin is represented as a Bernoulli distribution, where $p$ is the probability of flipping Heads. Under the null hypothesis, the coin is fair. Therefore the probability of flipping Heads is $p = 0.5$\n",
    "The probability of observing 1 tails and 9 heads is:\n",
    "\n",
    "$\n",
    "{10\\choose 9}p^8(1-p)^2 = {10\\choose 9}(0.5)^8(1-0.5)^2 = {10\\choose 9}(0.5)^{10} = 0.009765625\n",
    "$\n",
    "The probability of observing 9 heads in our flips under the assumption that the coin is fair is 0.009765625. Observing that result was not very probable under the null hypothesis.\n"
   ]
  },
  {
   "cell_type": "markdown",
   "metadata": {},
   "source": [
    "From our result, the probability of flipping heads is $\\frac{9}{10} = 0.9$. \n"
   ]
  },
  {
   "cell_type": "markdown",
   "metadata": {},
   "source": [
    "The critical z-score when the level of significance is 5% is -1.96 and 1.96. Let's derive how many heads, denoted by $n\\hat{p}$ we should've seen:\n",
    "$$\n",
    "-1.96 \\leq \\frac{n\\hat{p} - np_0}{\\sqrt{np_0(1-p_0)}} \\leq 1.96 \\\\\\\\\n",
    "-1.96 \\leq \\frac{n\\hat{p} - 10*0.5}{\\sqrt{10*0.5(0.5)}} \\leq 1.96 \\\\\n",
    "-1.96 \\leq \\frac{n\\hat{p} - 5}{\\sqrt{2.5}} \\leq 1.96 \\\\\n",
    "-3.099 \\leq n\\hat{p} - 5 \\leq 3.099 \\\\\n",
    "2.099 \\leq n\\hat{p}\\leq 8.099\n",
    "$$\n"
   ]
  },
  {
   "cell_type": "markdown",
   "metadata": {},
   "source": [
    "This shows that observing 9 heads in the result is highly not probable. We should've seen more than 2, less than 8 heads. We can reject the null hypothesis since we have evidence against it. The coin was probably not fair.\n"
   ]
  },
  {
   "cell_type": "markdown",
   "metadata": {},
   "source": [
    "---\n"
   ]
  },
  {
   "cell_type": "markdown",
   "metadata": {},
   "source": [
    "Now, let's define the hypothesis to be tested or the metrics under examination for our case study. \n",
    "\n",
    "Examples of commonly tested metrics include conversion rates, the number of signups, click-through rates, etc. For this case, let's focus on the conversion rate.\n",
    "\n",
    "## Formulating a hypothesis\n",
    "Since we don't actually know which of the website pages will perform better, this will be a two-sided test.\n",
    "- **Null Hypothesis:** The conversion rate for the two website designs is the same $$H_0: p = p_0$$\n",
    "- **Alternative Hypothesis:** The conversion rate for the two website designs is **not** the same $$H_1: p \\neq p_0$$\n",
    "where $p$ is the conversion rate for the new page, and $p_0$ is the conversion rate for the old page\n",
    "\n",
    "- Let's set a confidence interval of $95\\%$, hence our level of significance will be $\\alpha = 1 - 0.95 = 5\\%$\n",
    "\n",
    "- We will determine whether or not there is a (significant) difference between the two pages by computing the p-value\n"
   ]
  },
  {
   "cell_type": "markdown",
   "metadata": {},
   "source": [
    "---\n"
   ]
  },
  {
   "cell_type": "markdown",
   "metadata": {},
   "source": [
    "# 2. Collect and Prepare the Data\n",
    "\n",
    "## View the Data\n"
   ]
  },
  {
   "cell_type": "markdown",
   "metadata": {},
   "source": [
    "Let's see if we have any users that appear more than one in our dataset. duplicated (same user_id, same landing page, and same group)\n"
   ]
  },
  {
   "cell_type": "code",
   "execution_count": null,
   "metadata": {},
   "outputs": [],
   "source": [
    "# check if some users appear multiple times\n",
    "user_sessions = df['user_id'].value_counts()\n",
    "\n",
    "multiple_times_user = user_sessions[user_sessions > 1].count()\n",
    "\n",
    "multiple_times_user"
   ]
  },
  {
   "cell_type": "markdown",
   "metadata": {},
   "source": [
    "This result indicates that we have users that is appears multiple times. Since this is small compared to our dataset, we can directly remove those observations from our data. Let's remove the duplicates:\n"
   ]
  },
  {
   "cell_type": "code",
   "execution_count": null,
   "metadata": {},
   "outputs": [],
   "source": [
    "dr = user_sessions[user_sessions > 1].index\n",
    "df = df[~df['user_id'].isin(dr)]\n",
    "\n",
    "df.head(5)"
   ]
  },
  {
   "cell_type": "code",
   "execution_count": null,
   "metadata": {},
   "outputs": [],
   "source": [
    "df.shape[0]"
   ]
  },
  {
   "cell_type": "markdown",
   "metadata": {},
   "source": [
    "We've showed that we have successfully removed observations with users that appear multiple times.\n"
   ]
  },
  {
   "cell_type": "markdown",
   "metadata": {},
   "source": [
    "## Picking the sample \n"
   ]
  },
  {
   "cell_type": "markdown",
   "metadata": {},
   "source": [
    "Our data contains 286,690 rows, which is not little. There are instances where datasets extend into the millions, presenting a considerable challenge in terms of both time and space for conducting testing. We can derive conclusive insights by working with a sample of our data. However, determining the optimal sample size from the outset may not be immediately evident.\n",
    "\n",
    "However, we do know: \n",
    "- $\\alpha = 5\\%$\n",
    "- The power is the test is usually set to $1 - \\beta = 80\\%$\n",
    "- effect size: $2\\%$\n",
    "\n",
    "Usually, a good baseline conversion rate falls within the range of $10 - 15\\%$, let's use $13\\%$ as our baseline conversion rate in this case.\n",
    "Moreover, our team anticipates a conversion rate of $15\\%$, thereby justifying the chosen effect size of $2\\%$.\n",
    "\n",
    "Fortunately, Python facilitates this process seamlessly through the `statsmodel` library!\n"
   ]
  },
  {
   "cell_type": "markdown",
   "metadata": {},
   "source": [
    "### A refresher on levels of significance, type I and II errors\n",
    "    \n",
    "The level of significance represents the likelihood of observing your results under the assumption that the null hypothesis is true. Essentially, it quantifies the probability of committing a type I error.\n",
    "\n",
    "A type I error occurs when we fail to reject the null hypothesis despite it being false. In simpler terms, this is akin to making a false positive conclusion.\n",
    "\n",
    "Conversely, a type II error, referred to as a false negative conclusion, occurs when we incorrectly reject the null hypothesis when it is, in fact, true. The probability of making a false negative conclusion is denoted as $\\beta$.\n",
    "    \n",
    "<img src=\"https://cf-courses-data.s3.us.cloud-object-storage.appdomain.cloud/IND-GPXX0K4XEN/Screenshot%202024-01-23%20at%201.57.02%E2%80%AFPM.png\" width=\"50%\" alt=\"iris image\">\n",
    "\n",
    "<font color=gray>*Image Resource* :</font> <a href=\"https://medium.com/geekculture/which-is-worse-type-i-or-type-ii-errors-f40a0f040fcc\">here</a>\n"
   ]
  },
  {
   "cell_type": "code",
   "execution_count": null,
   "metadata": {},
   "outputs": [],
   "source": [
    "effect_size = sms.proportion_effectsize(0.13, 0.15)\n",
    "\n",
    "sample_size = sms.NormalIndPower().solve_power(\n",
    "    effect_size,\n",
    "    power = 0.8,\n",
    "    alpha = 0.05,\n",
    "    ratio = 1\n",
    ")\n",
    "\n",
    "sample_size = ceil(sample_size)\n",
    "\n",
    "sample_size"
   ]
  },
  {
   "cell_type": "markdown",
   "metadata": {},
   "source": [
    "We would need to sample 4,720 observations from each group so that our test can be effective.\n"
   ]
  },
  {
   "cell_type": "markdown",
   "metadata": {},
   "source": [
    "We should also select our 2 samples: the treatment sample and the control sample:\n"
   ]
  },
  {
   "cell_type": "code",
   "execution_count": null,
   "metadata": {},
   "outputs": [],
   "source": [
    "# The treatment and control samples\n",
    "trt_sample = df[df['group']=='treatment'].sample(n=sample_size, random_state=888)\n",
    "\n",
    "con_sample = df[df['group'] == 'control'].sample(n=sample_size, random_state=0)\n",
    "\n",
    "# Combining into one dataframe and resetting the indices\n",
    "df = pd.concat([con_sample, trt_sample], axis=0)\n",
    "df.reset_index(drop=True, inplace=True)\n",
    "\n",
    "df.sample(5)"
   ]
  },
  {
   "cell_type": "markdown",
   "metadata": {},
   "source": [
    "---\n"
   ]
  },
  {
   "cell_type": "markdown",
   "metadata": {},
   "source": [
    "# 3. Visualize the results\n"
   ]
  },
  {
   "cell_type": "markdown",
   "metadata": {},
   "source": [
    "Before we do any testing, let's take a look of our data to see the conversion rate of each group.\n"
   ]
  },
  {
   "cell_type": "code",
   "execution_count": null,
   "metadata": {},
   "outputs": [],
   "source": [
    "df.groupby(['group','version']).agg({'converted': 'mean'})"
   ]
  },
  {
   "cell_type": "markdown",
   "metadata": {},
   "source": [
    "From this output, we see that for users that were shown the light mode website, about 11.10% of them converted. Also, about 12.5% users who were exposed to the dark mode website converted. From the numbers alone, there seems to be an increase. \n"
   ]
  },
  {
   "cell_type": "markdown",
   "metadata": {},
   "source": [
    "Let's see it from a bar plot:\n"
   ]
  },
  {
   "cell_type": "code",
   "execution_count": null,
   "metadata": {},
   "outputs": [],
   "source": [
    "sns.barplot(x = df['version'], y = df['converted'], palette = ['gray', 'red'], ci = False)\n",
    "plt.ylim(0, 0.14)\n",
    "plt.title('Conversion rate for control and treatment group')\n",
    "plt.show()"
   ]
  },
  {
   "cell_type": "markdown",
   "metadata": {},
   "source": [
    "---\n"
   ]
  },
  {
   "cell_type": "markdown",
   "metadata": {},
   "source": [
    "# 4. Testing the Hypothesis\n"
   ]
  },
  {
   "cell_type": "markdown",
   "metadata": {},
   "source": [
    "We can now go ahead and calculate the p-value. \n"
   ]
  },
  {
   "cell_type": "markdown",
   "metadata": {},
   "source": [
    "<details>\n",
    "    <summary>What is a p-value?</summary>\n",
    "    \n",
    "A p-value is the probability to observe a value as extreme as the observed value assuming that the null hypothesis is true.\n",
    "    \n",
    "In step 1, we set that we have a 95% level of confidence, which results in a level of significance of 5%. \n",
    "\n",
    "</details>\n"
   ]
  },
  {
   "cell_type": "code",
   "execution_count": null,
   "metadata": {},
   "outputs": [],
   "source": [
    "conv_cont = df[df['group'] =='control']['converted']\n",
    "\n",
    "conv_trt = df[df['group'] =='treatment']['converted']\n",
    "\n",
    "n_cont = conv_cont.count()\n",
    "\n",
    "n_trt = conv_trt.count()\n",
    "\n",
    "num_converted = [conv_cont.sum(), conv_trt.sum()]\n",
    "\n",
    "nobs = [n_cont, n_trt]\n",
    "\n",
    "# p-value?\n",
    "z_stat, pval = sms.proportions_ztest(num_converted, nobs=nobs)\n",
    "\n",
    "pval"
   ]
  },
  {
   "cell_type": "markdown",
   "metadata": {},
   "source": [
    "How to interpret a p-value?\n"
   ]
  },
  {
   "cell_type": "markdown",
   "metadata": {},
   "source": [
    "| Values of p | Inference |\n",
    "| --- | --- |\n",
    "| p > 0.1 | No evidence against the null hypohesis|\n",
    "| 0.05 < p < 0.10 | Weak evidence against the null hypohesis|\n",
    "| 0.01 < p < 0.05 | Moderate evidence against the null hypohesis|\n",
    "| 0.05 < p < 0.001 | Good evidence against the null hypohesis|\n",
    "| 0.001 < p < 0.01 | Strong evidence against the null hypohesis|\n",
    "| p < 0.001 | Very strong evidence against the null hypohesis|\n"
   ]
  },
  {
   "cell_type": "markdown",
   "metadata": {},
   "source": [
    "From the result, the p-value is 0.0352, which is less than 0.05. This means that we have moderate evidence against the null hypothesis. \n",
    "\n",
    "In this case, we would reject the null hypothesis. This means that we **cannot say** that there is no difference in conversion rate between dark mode and light mode users. \n",
    "\n",
    "The team can definitely choose to implement a dark mode version of the blog, but can continue monitoring the conversion results as time goes by.\n"
   ]
  },
  {
   "cell_type": "markdown",
   "metadata": {},
   "source": [
    "---\n"
   ]
  },
  {
   "cell_type": "markdown",
   "metadata": {},
   "source": [
    "# Exercises\n",
    "\n",
    "The following exercises are to practice the material we learned. The dataset used is related to campaign performance and looks to see which group, between ad and psa, contributes the best to the company's revenue.\n"
   ]
  },
  {
   "cell_type": "code",
   "execution_count": null,
   "metadata": {},
   "outputs": [],
   "source": [
    "# Downloading the dataset\n",
    "await skillsnetwork.download_dataset('https://cf-courses-data.s3.us.cloud-object-storage.appdomain.cloud/IND-GPXX0K4XEN/marketing_AB.csv')\n",
    "marketing = pd.read_csv('marketing_AB.csv')\n",
    "marketing.sample(5)"
   ]
  },
  {
   "cell_type": "markdown",
   "metadata": {},
   "source": [
    "### Exercise 1 - Formulate the hypothesis for this problem\n"
   ]
  },
  {
   "cell_type": "markdown",
   "metadata": {},
   "source": [
    "$H_0$: \n",
    "\n",
    "$H_1$:\n",
    "\n",
    "$\\alpha = $\n"
   ]
  },
  {
   "cell_type": "markdown",
   "metadata": {},
   "source": [
    "<details>\n",
    "    <summary>Click here for Solution</summary>\n",
    "\n",
    "Since we don't actually know which group (psa or ad) will perform better, this will be a two-sided test.\n",
    "- Null hypothesis: The conversion rate for the two groups is the same $$H_0: p = p_0$$\n",
    "- Alternative Hypothesis: The conversion rate for the two groups is **not** the same $$H_1: p \\neq p_0$$\n",
    "where $p$ is the conversion rate for the psa, and $p_0$ is the conversion rate for the ads\n",
    "\n",
    "- Let's set a confidence interval of $95\\%$, hence our level of significance will be $\\alpha = 1 - 0.95 = 5\\%$\n",
    "\n",
    "</details>\n"
   ]
  },
  {
   "cell_type": "markdown",
   "metadata": {},
   "source": [
    "### Exercise 2 - Collect and clean up the dataset\n"
   ]
  },
  {
   "cell_type": "markdown",
   "metadata": {},
   "source": [
    "<details>\n",
    "    <summary>Click here for a Hint</summary>\n",
    "    \n",
    "1. Is the \"Unnamed: 0\" column necessary?\n",
    "    \n",
    "2. Are there any null values or duplicate values?\n",
    "\n",
    "</details>\n"
   ]
  },
  {
   "cell_type": "code",
   "execution_count": null,
   "metadata": {},
   "outputs": [],
   "source": [
    "# TODO"
   ]
  },
  {
   "cell_type": "markdown",
   "metadata": {},
   "source": [
    "<details>\n",
    "    <summary>Click here for Solution</summary>\n",
    "\n",
    "```python\n",
    "# remove the first column\n",
    "marketing = marketing.drop('Unnamed: 0', axis=1)\n",
    "\n",
    "# check if some users appear multiple times\n",
    "user_sess = marketing['user id'].value_counts()\n",
    "\n",
    "dup_users = user_sess[user_sess > 1].count()\n",
    "\n",
    "dup_users\n",
    "\n",
    "marketing = marketing.drop('Unnamed: 0', axis=1)\n",
    "marketing\n",
    "```\n",
    "</details>\n"
   ]
  },
  {
   "cell_type": "markdown",
   "metadata": {},
   "source": [
    "### Exercise 3 - Given that the baseline conversion rate is 10%, and we expect the conversion rate to be 15%, find the sample size needed\n"
   ]
  },
  {
   "cell_type": "markdown",
   "metadata": {},
   "source": [
    "<details>\n",
    "    <summary>Click here for a Hint</summary>\n",
    "    \n",
    "```sms.proportion_effectsize(baseline, expected)``` gives us the effect size\n",
    "    \n",
    "```sms.NormalIndPower().solve_power(effect, power, alpha, ratio)``` gives us the required sample size\n",
    "\n",
    "</details>\n"
   ]
  },
  {
   "cell_type": "code",
   "execution_count": null,
   "metadata": {},
   "outputs": [],
   "source": [
    "# TODO"
   ]
  },
  {
   "cell_type": "markdown",
   "metadata": {},
   "source": [
    "<details>\n",
    "    <summary>Click here for Solution</summary>\n",
    "\n",
    "```python\n",
    "effect = sms.proportion_effectsize(0.1, 0.15)\n",
    "\n",
    "sample_size = sms.NormalIndPower().solve_power(\n",
    "    effect,\n",
    "    power = 0.8,\n",
    "    alpha = 0.05,\n",
    "    ratio = 1\n",
    ")\n",
    "\n",
    "sample_size = ceil(sample_size)\n",
    "\n",
    "sample_size\n",
    "```\n",
    "\n",
    "</details>\n"
   ]
  },
  {
   "cell_type": "markdown",
   "metadata": {},
   "source": [
    "### Exercise 4 - Split the data into treatment and control groups\n"
   ]
  },
  {
   "cell_type": "code",
   "execution_count": null,
   "metadata": {},
   "outputs": [],
   "source": [
    "# TODO"
   ]
  },
  {
   "cell_type": "markdown",
   "metadata": {},
   "source": [
    "<details>\n",
    "    <summary>Click here for Solution</summary>\n",
    "\n",
    "```python\n",
    "# The treatment and control samples\n",
    "trt = marketing[marketing['test group'] == 'ad'].sample(n=sample_size, random_state=12)\n",
    "\n",
    "con = marketing[marketing['test group'] == 'psa'].sample(n=sample_size, random_state=12)\n",
    "\n",
    "# Combining into one dataframe and resetting the indices\n",
    "marketing = pd.concat([con, trt], axis=0)\n",
    "marketing.reset_index(drop=True, inplace=True)\n",
    "\n",
    "marketing.head(5)\n",
    "```\n",
    "\n",
    "</details>\n"
   ]
  },
  {
   "cell_type": "markdown",
   "metadata": {},
   "source": [
    "### Exercise 5 - Calculate the p-value\n"
   ]
  },
  {
   "cell_type": "markdown",
   "metadata": {},
   "source": [
    "<details>\n",
    "    <summary>Click here for a Hint</summary>\n",
    "    \n",
    "```sms.sms.proportions_ztest(num_converted, nobs=nobs)``` gives us two values: the z statistics score, and the p-value\n",
    "</details>\n"
   ]
  },
  {
   "cell_type": "code",
   "execution_count": null,
   "metadata": {},
   "outputs": [],
   "source": [
    "# TODO"
   ]
  },
  {
   "cell_type": "markdown",
   "metadata": {},
   "source": [
    "<details>\n",
    "    <summary>Click here for Solution</summary>\n",
    "\n",
    "```python\n",
    "converted_con = marketing[marketing['test group'] == 'ad']['converted']\n",
    "\n",
    "converted_trt = marketing[marketing['test group'] == 'psa']['converted']\n",
    "\n",
    "n_control = converted_con.count()\n",
    "\n",
    "n_treatment = converted_trt.count()\n",
    "\n",
    "num_converted = [converted_con.sum(), converted_trt.sum()]\n",
    "\n",
    "nobs = [n_control, n_treatment]\n",
    "\n",
    "# p-value?\n",
    "z_stat, pval = sms.proportions_ztest(num_converted, nobs=nobs)\n",
    "\n",
    "pval\n",
    "```\n",
    "\n",
    "</details>\n"
   ]
  },
  {
   "cell_type": "markdown",
   "metadata": {},
   "source": [
    "---\n"
   ]
  },
  {
   "cell_type": "markdown",
   "metadata": {},
   "source": [
    "# Congratulations! You have completed the lab\n"
   ]
  },
  {
   "cell_type": "markdown",
   "metadata": {},
   "source": [
    "## Authors\n"
   ]
  },
  {
   "cell_type": "markdown",
   "metadata": {},
   "source": [
    "[Lucy Xu](https://author.skills.network/instructors/lucy_xu)\n",
    "\n",
    "Author1 Bio\n"
   ]
  },
  {
   "cell_type": "markdown",
   "metadata": {},
   "source": [
    "[Author2 Name (with link to social profile)](author_link)\n",
    "\n",
    "Author2 Bio\n"
   ]
  },
  {
   "cell_type": "markdown",
   "metadata": {},
   "source": [
    "### Other Contributors\n"
   ]
  },
  {
   "cell_type": "markdown",
   "metadata": {},
   "source": [
    "[Contributor with Link](contributor_linl), Contributor No Link\n"
   ]
  },
  {
   "cell_type": "markdown",
   "metadata": {},
   "source": [
    "## Change Log\n"
   ]
  },
  {
   "cell_type": "markdown",
   "metadata": {},
   "source": [
    "|Date (YYYY-MM-DD)|Version|Changed By|Change Description|\n",
    "|-|-|-|-|\n",
    "|2023-05-01|0.1|Shengkai|Create Lab Template|\n"
   ]
  },
  {
   "cell_type": "markdown",
   "metadata": {},
   "source": [
    "Copyright © 2023 IBM Corporation. All rights reserved.\n"
   ]
  }
 ],
 "metadata": {
  "kernelspec": {
   "display_name": "Python",
   "language": "python",
   "name": "conda-env-python-py"
  },
  "language_info": {
   "codemirror_mode": {
    "name": "ipython",
    "version": 3
   },
   "file_extension": ".py",
   "mimetype": "text/x-python",
   "name": "python",
   "nbconvert_exporter": "python",
   "pygments_lexer": "ipython3",
   "version": "3.7.12"
  }
 },
 "nbformat": 4,
 "nbformat_minor": 4
}
